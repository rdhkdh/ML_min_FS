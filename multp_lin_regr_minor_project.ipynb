{
 "cells": [
  {
   "cell_type": "markdown",
   "id": "7bfb9c99",
   "metadata": {},
   "source": [
    " ### Multiple Linear Regression used to predict the health of individuals on a scale of 0-100"
   ]
  },
  {
   "cell_type": "code",
   "execution_count": 2,
   "id": "718fe995",
   "metadata": {},
   "outputs": [],
   "source": [
    "import numpy as np\n",
    "import matplotlib.pyplot as plt\n",
    "import pandas as pd"
   ]
  },
  {
   "cell_type": "markdown",
   "id": "70cfbe2e",
   "metadata": {},
   "source": [
    "Rating: Sleep= 1 to 12 hours, Exercise= 0 to 180 minutes, Diet= scale of 0 to 100 , Genetics= good/average/poor. Output= health on a scale of 0-100."
   ]
  },
  {
   "cell_type": "code",
   "execution_count": 7,
   "id": "8965f9ad",
   "metadata": {},
   "outputs": [
    {
     "data": {
      "text/plain": [
       "array([ 9.01751445,  8.24117179,  8.89874437,  7.03945084,  2.70923849,\n",
       "       10.64669502,  6.5948128 ,  9.05032728,  6.97836466,  3.13533126,\n",
       "        8.89380478,  8.94778718, 11.49557031,  4.40500469, 12.27238884,\n",
       "        9.51144138,  9.42161099,  6.50164778,  8.77723374,  4.95605836,\n",
       "       10.31717981, 11.35127059,  7.31103896,  4.82739354,  8.0689794 ,\n",
       "        8.07618097,  3.84400747, 12.28297858, 11.24536189,  3.3367289 ,\n",
       "        8.60235388,  7.92670888,  1.33568135])"
      ]
     },
     "execution_count": 7,
     "metadata": {},
     "output_type": "execute_result"
    }
   ],
   "source": [
    "from numpy.random import rand\n",
    "s= np.random.uniform(low=1, high=13, size=(33)).astype(float)\n",
    "s"
   ]
  },
  {
   "cell_type": "code",
   "execution_count": 9,
   "id": "2bb49f1b",
   "metadata": {},
   "outputs": [
    {
     "data": {
      "text/plain": [
       "array([ 72, 114,  78,  90,  76,  66,  95,  83, 156, 133,  78, 176,  87,\n",
       "       128, 179, 113, 114,  15, 122, 161,  35,  70, 144, 133,  27, 126,\n",
       "       129, 136, 137,  61,  88,  39, 108])"
      ]
     },
     "execution_count": 9,
     "metadata": {},
     "output_type": "execute_result"
    }
   ],
   "source": [
    "ex= np.random.uniform(low=0, high=181, size=(33)).astype(int)\n",
    "ex"
   ]
  },
  {
   "cell_type": "code",
   "execution_count": 11,
   "id": "cd05dcc3",
   "metadata": {},
   "outputs": [
    {
     "data": {
      "text/plain": [
       "array([ 61.42402005,  85.12581225,  73.04413967,  39.10886975,\n",
       "        72.65817602,  65.96698862,  55.1903074 ,  68.76417963,\n",
       "        83.48024229,  98.79451758,  68.43089379,  14.3671272 ,\n",
       "       100.42762265,  14.34448731,  35.67973869,  99.83841631,\n",
       "        25.30084774,  96.94999827,  53.27558889,  15.15782314,\n",
       "       100.72749782,  41.15021639,  23.49353665,  78.49659148,\n",
       "        84.45359422,  48.29231688,  50.08919029,  87.04858555,\n",
       "        66.39675675,  15.6326242 ,  88.725557  ,  21.49084912,\n",
       "        34.13408711])"
      ]
     },
     "execution_count": 11,
     "metadata": {},
     "output_type": "execute_result"
    }
   ],
   "source": [
    "d= np.random.uniform(low=0, high=101, size=(33)).astype(float)\n",
    "d"
   ]
  },
  {
   "cell_type": "code",
   "execution_count": 15,
   "id": "71961697",
   "metadata": {},
   "outputs": [
    {
     "data": {
      "text/plain": [
       "['poor',\n",
       " 'good',\n",
       " 'poor',\n",
       " 'average',\n",
       " 'good',\n",
       " 'poor',\n",
       " 'poor',\n",
       " 'good',\n",
       " 'poor',\n",
       " 'poor',\n",
       " 'poor',\n",
       " 'average',\n",
       " 'good',\n",
       " 'poor',\n",
       " 'poor',\n",
       " 'good',\n",
       " 'average',\n",
       " 'poor',\n",
       " 'good',\n",
       " 'average',\n",
       " 'good',\n",
       " 'good',\n",
       " 'good',\n",
       " 'good',\n",
       " 'poor',\n",
       " 'good',\n",
       " 'average',\n",
       " 'good',\n",
       " 'good',\n",
       " 'good',\n",
       " 'good',\n",
       " 'poor',\n",
       " 'good']"
      ]
     },
     "execution_count": 15,
     "metadata": {},
     "output_type": "execute_result"
    }
   ],
   "source": [
    "from random import choice\n",
    "gene=[]\n",
    "for i in range(1,34):\n",
    "    gene.append(choice(['good','average','poor'])) \n",
    "gene"
   ]
  },
  {
   "cell_type": "code",
   "execution_count": 16,
   "id": "532b8d34",
   "metadata": {},
   "outputs": [
    {
     "data": {
      "text/plain": [
       "33"
      ]
     },
     "execution_count": 16,
     "metadata": {},
     "output_type": "execute_result"
    }
   ],
   "source": [
    "len(gene)"
   ]
  },
  {
   "cell_type": "code",
   "execution_count": 26,
   "id": "dab0c2f9",
   "metadata": {},
   "outputs": [
    {
     "data": {
      "text/plain": [
       "[(9.017514446686404, 72, 61.424020046481466, 'poor'),\n",
       " (8.241171789738818, 114, 85.12581225307461, 'good'),\n",
       " (8.898744366814949, 78, 73.04413967158837, 'poor'),\n",
       " (7.039450841845602, 90, 39.10886974518282, 'average'),\n",
       " (2.709238494933037, 76, 72.65817601850354, 'good'),\n",
       " (10.646695022583927, 66, 65.96698862454234, 'poor'),\n",
       " (6.594812803950399, 95, 55.19030740308224, 'poor'),\n",
       " (9.050327275174146, 83, 68.76417963034481, 'good'),\n",
       " (6.978364658693472, 156, 83.48024228929242, 'poor'),\n",
       " (3.135331258365633, 133, 98.79451757919034, 'poor'),\n",
       " (8.8938047787449, 78, 68.43089378748391, 'poor'),\n",
       " (8.947787177821851, 176, 14.367127196131682, 'average'),\n",
       " (11.49557030809757, 87, 100.42762265260484, 'good'),\n",
       " (4.40500469185009, 128, 14.344487305738099, 'poor'),\n",
       " (12.272388839254457, 179, 35.67973869105069, 'poor'),\n",
       " (9.511441381805257, 113, 99.83841630835056, 'good'),\n",
       " (9.42161099435678, 114, 25.300847737454188, 'average'),\n",
       " (6.501647784097692, 15, 96.94999826726865, 'poor'),\n",
       " (8.777233742131408, 122, 53.275588889117536, 'good'),\n",
       " (4.9560583552074515, 161, 15.157823136360268, 'average'),\n",
       " (10.317179813804392, 35, 100.72749781542883, 'good'),\n",
       " (11.351270592492064, 70, 41.15021638514699, 'good'),\n",
       " (7.311038957015964, 144, 23.493536646088373, 'good'),\n",
       " (4.827393537792277, 133, 78.49659147765121, 'good'),\n",
       " (8.06897940464518, 27, 84.45359422212752, 'poor'),\n",
       " (8.076180966177992, 126, 48.292316880933654, 'good'),\n",
       " (3.8440074652705576, 129, 50.089190288479806, 'average'),\n",
       " (12.282978583975304, 136, 87.04858554662741, 'good'),\n",
       " (11.24536189367327, 137, 66.39675675490945, 'good'),\n",
       " (3.3367288990092887, 61, 15.632624195538012, 'good'),\n",
       " (8.602353877598652, 88, 88.72555700308867, 'good'),\n",
       " (7.926708884179403, 39, 21.490849118808722, 'poor'),\n",
       " (1.3356813518157429, 108, 34.134087110790155, 'good')]"
      ]
     },
     "execution_count": 26,
     "metadata": {},
     "output_type": "execute_result"
    }
   ],
   "source": [
    "list1=[]\n",
    "for i in range(0,33):\n",
    "    list1.append((s[i],ex[i],d[i],gene[i]))\n",
    "list1"
   ]
  },
  {
   "cell_type": "code",
   "execution_count": 29,
   "id": "890c6709",
   "metadata": {},
   "outputs": [
    {
     "data": {
      "text/html": [
       "<div>\n",
       "<style scoped>\n",
       "    .dataframe tbody tr th:only-of-type {\n",
       "        vertical-align: middle;\n",
       "    }\n",
       "\n",
       "    .dataframe tbody tr th {\n",
       "        vertical-align: top;\n",
       "    }\n",
       "\n",
       "    .dataframe thead th {\n",
       "        text-align: right;\n",
       "    }\n",
       "</style>\n",
       "<table border=\"1\" class=\"dataframe\">\n",
       "  <thead>\n",
       "    <tr style=\"text-align: right;\">\n",
       "      <th></th>\n",
       "      <th>hours_slept</th>\n",
       "      <th>minutes_exercised</th>\n",
       "      <th>diet_rating</th>\n",
       "      <th>genetic_factors</th>\n",
       "    </tr>\n",
       "  </thead>\n",
       "  <tbody>\n",
       "    <tr>\n",
       "      <th>0</th>\n",
       "      <td>9.017514</td>\n",
       "      <td>72</td>\n",
       "      <td>61.424020</td>\n",
       "      <td>poor</td>\n",
       "    </tr>\n",
       "    <tr>\n",
       "      <th>1</th>\n",
       "      <td>8.241172</td>\n",
       "      <td>114</td>\n",
       "      <td>85.125812</td>\n",
       "      <td>good</td>\n",
       "    </tr>\n",
       "    <tr>\n",
       "      <th>2</th>\n",
       "      <td>8.898744</td>\n",
       "      <td>78</td>\n",
       "      <td>73.044140</td>\n",
       "      <td>poor</td>\n",
       "    </tr>\n",
       "    <tr>\n",
       "      <th>3</th>\n",
       "      <td>7.039451</td>\n",
       "      <td>90</td>\n",
       "      <td>39.108870</td>\n",
       "      <td>average</td>\n",
       "    </tr>\n",
       "    <tr>\n",
       "      <th>4</th>\n",
       "      <td>2.709238</td>\n",
       "      <td>76</td>\n",
       "      <td>72.658176</td>\n",
       "      <td>good</td>\n",
       "    </tr>\n",
       "    <tr>\n",
       "      <th>5</th>\n",
       "      <td>10.646695</td>\n",
       "      <td>66</td>\n",
       "      <td>65.966989</td>\n",
       "      <td>poor</td>\n",
       "    </tr>\n",
       "    <tr>\n",
       "      <th>6</th>\n",
       "      <td>6.594813</td>\n",
       "      <td>95</td>\n",
       "      <td>55.190307</td>\n",
       "      <td>poor</td>\n",
       "    </tr>\n",
       "    <tr>\n",
       "      <th>7</th>\n",
       "      <td>9.050327</td>\n",
       "      <td>83</td>\n",
       "      <td>68.764180</td>\n",
       "      <td>good</td>\n",
       "    </tr>\n",
       "    <tr>\n",
       "      <th>8</th>\n",
       "      <td>6.978365</td>\n",
       "      <td>156</td>\n",
       "      <td>83.480242</td>\n",
       "      <td>poor</td>\n",
       "    </tr>\n",
       "    <tr>\n",
       "      <th>9</th>\n",
       "      <td>3.135331</td>\n",
       "      <td>133</td>\n",
       "      <td>98.794518</td>\n",
       "      <td>poor</td>\n",
       "    </tr>\n",
       "    <tr>\n",
       "      <th>10</th>\n",
       "      <td>8.893805</td>\n",
       "      <td>78</td>\n",
       "      <td>68.430894</td>\n",
       "      <td>poor</td>\n",
       "    </tr>\n",
       "    <tr>\n",
       "      <th>11</th>\n",
       "      <td>8.947787</td>\n",
       "      <td>176</td>\n",
       "      <td>14.367127</td>\n",
       "      <td>average</td>\n",
       "    </tr>\n",
       "    <tr>\n",
       "      <th>12</th>\n",
       "      <td>11.495570</td>\n",
       "      <td>87</td>\n",
       "      <td>100.427623</td>\n",
       "      <td>good</td>\n",
       "    </tr>\n",
       "    <tr>\n",
       "      <th>13</th>\n",
       "      <td>4.405005</td>\n",
       "      <td>128</td>\n",
       "      <td>14.344487</td>\n",
       "      <td>poor</td>\n",
       "    </tr>\n",
       "    <tr>\n",
       "      <th>14</th>\n",
       "      <td>12.272389</td>\n",
       "      <td>179</td>\n",
       "      <td>35.679739</td>\n",
       "      <td>poor</td>\n",
       "    </tr>\n",
       "    <tr>\n",
       "      <th>15</th>\n",
       "      <td>9.511441</td>\n",
       "      <td>113</td>\n",
       "      <td>99.838416</td>\n",
       "      <td>good</td>\n",
       "    </tr>\n",
       "    <tr>\n",
       "      <th>16</th>\n",
       "      <td>9.421611</td>\n",
       "      <td>114</td>\n",
       "      <td>25.300848</td>\n",
       "      <td>average</td>\n",
       "    </tr>\n",
       "    <tr>\n",
       "      <th>17</th>\n",
       "      <td>6.501648</td>\n",
       "      <td>15</td>\n",
       "      <td>96.949998</td>\n",
       "      <td>poor</td>\n",
       "    </tr>\n",
       "    <tr>\n",
       "      <th>18</th>\n",
       "      <td>8.777234</td>\n",
       "      <td>122</td>\n",
       "      <td>53.275589</td>\n",
       "      <td>good</td>\n",
       "    </tr>\n",
       "    <tr>\n",
       "      <th>19</th>\n",
       "      <td>4.956058</td>\n",
       "      <td>161</td>\n",
       "      <td>15.157823</td>\n",
       "      <td>average</td>\n",
       "    </tr>\n",
       "    <tr>\n",
       "      <th>20</th>\n",
       "      <td>10.317180</td>\n",
       "      <td>35</td>\n",
       "      <td>100.727498</td>\n",
       "      <td>good</td>\n",
       "    </tr>\n",
       "    <tr>\n",
       "      <th>21</th>\n",
       "      <td>11.351271</td>\n",
       "      <td>70</td>\n",
       "      <td>41.150216</td>\n",
       "      <td>good</td>\n",
       "    </tr>\n",
       "    <tr>\n",
       "      <th>22</th>\n",
       "      <td>7.311039</td>\n",
       "      <td>144</td>\n",
       "      <td>23.493537</td>\n",
       "      <td>good</td>\n",
       "    </tr>\n",
       "    <tr>\n",
       "      <th>23</th>\n",
       "      <td>4.827394</td>\n",
       "      <td>133</td>\n",
       "      <td>78.496591</td>\n",
       "      <td>good</td>\n",
       "    </tr>\n",
       "    <tr>\n",
       "      <th>24</th>\n",
       "      <td>8.068979</td>\n",
       "      <td>27</td>\n",
       "      <td>84.453594</td>\n",
       "      <td>poor</td>\n",
       "    </tr>\n",
       "    <tr>\n",
       "      <th>25</th>\n",
       "      <td>8.076181</td>\n",
       "      <td>126</td>\n",
       "      <td>48.292317</td>\n",
       "      <td>good</td>\n",
       "    </tr>\n",
       "    <tr>\n",
       "      <th>26</th>\n",
       "      <td>3.844007</td>\n",
       "      <td>129</td>\n",
       "      <td>50.089190</td>\n",
       "      <td>average</td>\n",
       "    </tr>\n",
       "    <tr>\n",
       "      <th>27</th>\n",
       "      <td>12.282979</td>\n",
       "      <td>136</td>\n",
       "      <td>87.048586</td>\n",
       "      <td>good</td>\n",
       "    </tr>\n",
       "    <tr>\n",
       "      <th>28</th>\n",
       "      <td>11.245362</td>\n",
       "      <td>137</td>\n",
       "      <td>66.396757</td>\n",
       "      <td>good</td>\n",
       "    </tr>\n",
       "    <tr>\n",
       "      <th>29</th>\n",
       "      <td>3.336729</td>\n",
       "      <td>61</td>\n",
       "      <td>15.632624</td>\n",
       "      <td>good</td>\n",
       "    </tr>\n",
       "    <tr>\n",
       "      <th>30</th>\n",
       "      <td>8.602354</td>\n",
       "      <td>88</td>\n",
       "      <td>88.725557</td>\n",
       "      <td>good</td>\n",
       "    </tr>\n",
       "    <tr>\n",
       "      <th>31</th>\n",
       "      <td>7.926709</td>\n",
       "      <td>39</td>\n",
       "      <td>21.490849</td>\n",
       "      <td>poor</td>\n",
       "    </tr>\n",
       "    <tr>\n",
       "      <th>32</th>\n",
       "      <td>1.335681</td>\n",
       "      <td>108</td>\n",
       "      <td>34.134087</td>\n",
       "      <td>good</td>\n",
       "    </tr>\n",
       "  </tbody>\n",
       "</table>\n",
       "</div>"
      ],
      "text/plain": [
       "    hours_slept  minutes_exercised  diet_rating genetic_factors\n",
       "0      9.017514                 72    61.424020            poor\n",
       "1      8.241172                114    85.125812            good\n",
       "2      8.898744                 78    73.044140            poor\n",
       "3      7.039451                 90    39.108870         average\n",
       "4      2.709238                 76    72.658176            good\n",
       "5     10.646695                 66    65.966989            poor\n",
       "6      6.594813                 95    55.190307            poor\n",
       "7      9.050327                 83    68.764180            good\n",
       "8      6.978365                156    83.480242            poor\n",
       "9      3.135331                133    98.794518            poor\n",
       "10     8.893805                 78    68.430894            poor\n",
       "11     8.947787                176    14.367127         average\n",
       "12    11.495570                 87   100.427623            good\n",
       "13     4.405005                128    14.344487            poor\n",
       "14    12.272389                179    35.679739            poor\n",
       "15     9.511441                113    99.838416            good\n",
       "16     9.421611                114    25.300848         average\n",
       "17     6.501648                 15    96.949998            poor\n",
       "18     8.777234                122    53.275589            good\n",
       "19     4.956058                161    15.157823         average\n",
       "20    10.317180                 35   100.727498            good\n",
       "21    11.351271                 70    41.150216            good\n",
       "22     7.311039                144    23.493537            good\n",
       "23     4.827394                133    78.496591            good\n",
       "24     8.068979                 27    84.453594            poor\n",
       "25     8.076181                126    48.292317            good\n",
       "26     3.844007                129    50.089190         average\n",
       "27    12.282979                136    87.048586            good\n",
       "28    11.245362                137    66.396757            good\n",
       "29     3.336729                 61    15.632624            good\n",
       "30     8.602354                 88    88.725557            good\n",
       "31     7.926709                 39    21.490849            poor\n",
       "32     1.335681                108    34.134087            good"
      ]
     },
     "execution_count": 29,
     "metadata": {},
     "output_type": "execute_result"
    }
   ],
   "source": [
    "df1= pd.DataFrame(list1, columns=['hours_slept','minutes_exercised','diet_rating','genetic_factors'])\n",
    "df1"
   ]
  },
  {
   "cell_type": "code",
   "execution_count": 30,
   "id": "06e2cb9c",
   "metadata": {},
   "outputs": [],
   "source": [
    "df1.to_csv('health data.csv')"
   ]
  },
  {
   "cell_type": "code",
   "execution_count": 31,
   "id": "2efc7248",
   "metadata": {},
   "outputs": [
    {
     "data": {
      "text/plain": [
       "array([ 38,  36,  94,  68,  11,  74,  56,  17,  14,  93,  50,  16,  91,\n",
       "        77,  20,  93,  86,  53, 100,  36,  97,  21,  67,  62,  39,   9,\n",
       "        19,  27,  85,  20,  39,  38,  14])"
      ]
     },
     "execution_count": 31,
     "metadata": {},
     "output_type": "execute_result"
    }
   ],
   "source": [
    "y= np.random.uniform(low=0,high=101,size=33).astype(int)\n",
    "y  #health rating"
   ]
  },
  {
   "cell_type": "code",
   "execution_count": 33,
   "id": "4cc151a9",
   "metadata": {},
   "outputs": [
    {
     "data": {
      "text/plain": [
       "(33,)"
      ]
     },
     "execution_count": 33,
     "metadata": {},
     "output_type": "execute_result"
    }
   ],
   "source": [
    "y.shape"
   ]
  },
  {
   "cell_type": "code",
   "execution_count": 34,
   "id": "6ce629af",
   "metadata": {},
   "outputs": [],
   "source": [
    "from sklearn.compose import ColumnTransformer\n",
    "from sklearn.preprocessing import OneHotEncoder\n",
    "ct = ColumnTransformer(transformers=[('encoder', OneHotEncoder(), [3])],  remainder='passthrough')\n",
    "\n",
    "X = np.array(ct.fit_transform(list1))"
   ]
  },
  {
   "cell_type": "code",
   "execution_count": 35,
   "id": "9c26f568",
   "metadata": {},
   "outputs": [
    {
     "data": {
      "text/plain": [
       "array([[0.0, 0.0, 1.0, 9.017514446686404, 72, 61.424020046481466],\n",
       "       [0.0, 1.0, 0.0, 8.241171789738818, 114, 85.12581225307461],\n",
       "       [0.0, 0.0, 1.0, 8.898744366814949, 78, 73.04413967158837],\n",
       "       [1.0, 0.0, 0.0, 7.039450841845602, 90, 39.10886974518282],\n",
       "       [0.0, 1.0, 0.0, 2.709238494933037, 76, 72.65817601850354],\n",
       "       [0.0, 0.0, 1.0, 10.646695022583927, 66, 65.96698862454234],\n",
       "       [0.0, 0.0, 1.0, 6.594812803950399, 95, 55.19030740308224],\n",
       "       [0.0, 1.0, 0.0, 9.050327275174146, 83, 68.76417963034481],\n",
       "       [0.0, 0.0, 1.0, 6.978364658693472, 156, 83.48024228929242],\n",
       "       [0.0, 0.0, 1.0, 3.135331258365633, 133, 98.79451757919034],\n",
       "       [0.0, 0.0, 1.0, 8.8938047787449, 78, 68.43089378748391],\n",
       "       [1.0, 0.0, 0.0, 8.947787177821851, 176, 14.367127196131682],\n",
       "       [0.0, 1.0, 0.0, 11.49557030809757, 87, 100.42762265260484],\n",
       "       [0.0, 0.0, 1.0, 4.40500469185009, 128, 14.344487305738099],\n",
       "       [0.0, 0.0, 1.0, 12.272388839254457, 179, 35.67973869105069],\n",
       "       [0.0, 1.0, 0.0, 9.511441381805257, 113, 99.83841630835056],\n",
       "       [1.0, 0.0, 0.0, 9.42161099435678, 114, 25.300847737454188],\n",
       "       [0.0, 0.0, 1.0, 6.501647784097692, 15, 96.94999826726865],\n",
       "       [0.0, 1.0, 0.0, 8.777233742131408, 122, 53.275588889117536],\n",
       "       [1.0, 0.0, 0.0, 4.9560583552074515, 161, 15.157823136360268],\n",
       "       [0.0, 1.0, 0.0, 10.317179813804392, 35, 100.72749781542883],\n",
       "       [0.0, 1.0, 0.0, 11.351270592492064, 70, 41.15021638514699],\n",
       "       [0.0, 1.0, 0.0, 7.311038957015964, 144, 23.493536646088373],\n",
       "       [0.0, 1.0, 0.0, 4.827393537792277, 133, 78.49659147765121],\n",
       "       [0.0, 0.0, 1.0, 8.06897940464518, 27, 84.45359422212752],\n",
       "       [0.0, 1.0, 0.0, 8.076180966177992, 126, 48.292316880933654],\n",
       "       [1.0, 0.0, 0.0, 3.8440074652705576, 129, 50.089190288479806],\n",
       "       [0.0, 1.0, 0.0, 12.282978583975304, 136, 87.04858554662741],\n",
       "       [0.0, 1.0, 0.0, 11.24536189367327, 137, 66.39675675490945],\n",
       "       [0.0, 1.0, 0.0, 3.3367288990092887, 61, 15.632624195538012],\n",
       "       [0.0, 1.0, 0.0, 8.602353877598652, 88, 88.72555700308867],\n",
       "       [0.0, 0.0, 1.0, 7.926708884179403, 39, 21.490849118808722],\n",
       "       [0.0, 1.0, 0.0, 1.3356813518157429, 108, 34.134087110790155]],\n",
       "      dtype=object)"
      ]
     },
     "execution_count": 35,
     "metadata": {},
     "output_type": "execute_result"
    }
   ],
   "source": [
    "X"
   ]
  },
  {
   "cell_type": "code",
   "execution_count": 36,
   "id": "e56d4a45",
   "metadata": {},
   "outputs": [],
   "source": [
    "from sklearn.model_selection import train_test_split\n",
    "X_train, X_test, y_train , y_test = train_test_split(X, y, test_size = 0.33, random_state = 42)"
   ]
  },
  {
   "cell_type": "markdown",
   "id": "fb4ec961",
   "metadata": {},
   "source": [
    "We have now split the dataset."
   ]
  },
  {
   "cell_type": "code",
   "execution_count": 37,
   "id": "bb2993fb",
   "metadata": {},
   "outputs": [
    {
     "data": {
      "text/plain": [
       "(22, 6)"
      ]
     },
     "execution_count": 37,
     "metadata": {},
     "output_type": "execute_result"
    }
   ],
   "source": [
    "X_train.shape"
   ]
  },
  {
   "cell_type": "code",
   "execution_count": 38,
   "id": "7cb087a7",
   "metadata": {},
   "outputs": [
    {
     "data": {
      "text/plain": [
       "(11,)"
      ]
     },
     "execution_count": 38,
     "metadata": {},
     "output_type": "execute_result"
    }
   ],
   "source": [
    "y_test.shape"
   ]
  },
  {
   "cell_type": "code",
   "execution_count": 39,
   "id": "b246fcfa",
   "metadata": {},
   "outputs": [
    {
     "data": {
      "text/plain": [
       "LinearRegression()"
      ]
     },
     "execution_count": 39,
     "metadata": {},
     "output_type": "execute_result"
    }
   ],
   "source": [
    "from sklearn.linear_model import LinearRegression\n",
    "obj1= LinearRegression()\n",
    "obj1.fit(X_train,y_train)"
   ]
  },
  {
   "cell_type": "markdown",
   "id": "e229402f",
   "metadata": {},
   "source": [
    "Now the model has been trained."
   ]
  },
  {
   "cell_type": "code",
   "execution_count": 41,
   "id": "a5a939b3",
   "metadata": {},
   "outputs": [
    {
     "data": {
      "text/plain": [
       "array([64.08875494, 52.11259511, 49.32459378, 69.74907538, 47.18982234,\n",
       "       44.83361582, 44.16701814, 58.93154342, 59.90311734, 63.07743941,\n",
       "       44.19558363])"
      ]
     },
     "execution_count": 41,
     "metadata": {},
     "output_type": "execute_result"
    }
   ],
   "source": [
    "y_pred= obj1.predict(X_test)\n",
    "y_pred  #predicted rating of health."
   ]
  },
  {
   "cell_type": "code",
   "execution_count": 43,
   "id": "ce145347",
   "metadata": {},
   "outputs": [
    {
     "data": {
      "text/plain": [
       "array([38, 93, 19, 53, 14, 93, 36, 21, 91, 38, 11])"
      ]
     },
     "execution_count": 43,
     "metadata": {},
     "output_type": "execute_result"
    }
   ],
   "source": [
    "y_test #actual rating of health."
   ]
  },
  {
   "cell_type": "code",
   "execution_count": null,
   "id": "31603430",
   "metadata": {},
   "outputs": [],
   "source": []
  }
 ],
 "metadata": {
  "kernelspec": {
   "display_name": "Python 3 (ipykernel)",
   "language": "python",
   "name": "python3"
  },
  "language_info": {
   "codemirror_mode": {
    "name": "ipython",
    "version": 3
   },
   "file_extension": ".py",
   "mimetype": "text/x-python",
   "name": "python",
   "nbconvert_exporter": "python",
   "pygments_lexer": "ipython3",
   "version": "3.9.7"
  }
 },
 "nbformat": 4,
 "nbformat_minor": 5
}
