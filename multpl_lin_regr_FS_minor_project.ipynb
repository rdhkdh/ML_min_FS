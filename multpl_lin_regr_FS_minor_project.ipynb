{
 "cells": [
  {
   "cell_type": "markdown",
   "id": "e251c4c7",
   "metadata": {},
   "source": [
    "# Multiple Linear Regression with Feature Scaling\n",
    "#### Used to predict the health of individuals on a scale of 0-1"
   ]
  },
  {
   "cell_type": "markdown",
   "id": "24b802e5",
   "metadata": {},
   "source": [
    "Please restart the Kernel and run all cells:"
   ]
  },
  {
   "cell_type": "code",
   "execution_count": 1,
   "id": "718fe995",
   "metadata": {},
   "outputs": [],
   "source": [
    "import numpy as np\n",
    "import matplotlib.pyplot as plt\n",
    "import pandas as pd"
   ]
  },
  {
   "cell_type": "markdown",
   "id": "70cfbe2e",
   "metadata": {},
   "source": [
    "Rating: Sleep= 1 to 12 hours, Exercise= 0 to 180 minutes, Diet= scale of 0 to 100 , Genetics= good/average/poor. Output= health on a scale of 0-1."
   ]
  },
  {
   "cell_type": "code",
   "execution_count": 2,
   "id": "8965f9ad",
   "metadata": {},
   "outputs": [
    {
     "data": {
      "text/plain": [
       "array([ 4.11280528,  1.47772634,  1.55296489,  1.54531889,  6.40118471,\n",
       "        3.5223729 , 10.42747839, 12.76393397,  1.58713646,  1.70893702,\n",
       "        5.74025087,  9.16043238,  9.33324103,  2.32998456,  6.50062588,\n",
       "        9.91441684, 10.31925628, 11.82819347,  9.96381112,  3.08350794,\n",
       "       11.53654745,  4.16484787, 10.71463258,  4.30062747, 11.19322481,\n",
       "        1.2041113 , 10.84716375,  6.27943216,  5.04897548,  3.76538831,\n",
       "       12.79403339,  5.0319281 ,  9.84090232])"
      ]
     },
     "execution_count": 2,
     "metadata": {},
     "output_type": "execute_result"
    }
   ],
   "source": [
    "from numpy.random import rand\n",
    "s= np.random.uniform(low=1, high=13, size=(33)).astype(float)\n",
    "s"
   ]
  },
  {
   "cell_type": "code",
   "execution_count": 3,
   "id": "2bb49f1b",
   "metadata": {},
   "outputs": [
    {
     "data": {
      "text/plain": [
       "array([138,  12,  63, 115, 102,  37,   9,  85,  10,  96, 164, 106,  52,\n",
       "        44,  15,  56,  96, 149,  49, 109, 137,  78, 109, 166,  16,  11,\n",
       "         9,   7, 131,  79, 153, 123,  98])"
      ]
     },
     "execution_count": 3,
     "metadata": {},
     "output_type": "execute_result"
    }
   ],
   "source": [
    "ex= np.random.uniform(low=0, high=181, size=(33)).astype(int)\n",
    "ex"
   ]
  },
  {
   "cell_type": "code",
   "execution_count": 4,
   "id": "cd05dcc3",
   "metadata": {},
   "outputs": [
    {
     "data": {
      "text/plain": [
       "array([35.24962884, 23.13640174, 57.39372279, 22.66852752, 10.37285826,\n",
       "       31.8566925 , 65.31137631, 99.11438839, 60.49112835, 27.82710191,\n",
       "       24.77496628, 54.72126704, 94.61082097,  4.19614761, 82.08347633,\n",
       "       67.83509463, 44.43628421,  4.82633442, 31.98722863, 41.2341904 ,\n",
       "       28.87408958,  3.02765555, 62.61057836, 45.73815127, 66.02487485,\n",
       "       35.40748699, 68.57191592, 47.21519186, 52.76117318, 27.99591991,\n",
       "       36.36050544, 75.89596656, 99.11534416])"
      ]
     },
     "execution_count": 4,
     "metadata": {},
     "output_type": "execute_result"
    }
   ],
   "source": [
    "d= np.random.uniform(low=0, high=101, size=(33)).astype(float)\n",
    "d"
   ]
  },
  {
   "cell_type": "code",
   "execution_count": 5,
   "id": "71961697",
   "metadata": {},
   "outputs": [
    {
     "data": {
      "text/plain": [
       "['good',\n",
       " 'good',\n",
       " 'poor',\n",
       " 'average',\n",
       " 'average',\n",
       " 'poor',\n",
       " 'average',\n",
       " 'poor',\n",
       " 'good',\n",
       " 'poor',\n",
       " 'good',\n",
       " 'good',\n",
       " 'good',\n",
       " 'poor',\n",
       " 'good',\n",
       " 'average',\n",
       " 'good',\n",
       " 'average',\n",
       " 'average',\n",
       " 'poor',\n",
       " 'poor',\n",
       " 'average',\n",
       " 'good',\n",
       " 'average',\n",
       " 'poor',\n",
       " 'good',\n",
       " 'good',\n",
       " 'poor',\n",
       " 'average',\n",
       " 'good',\n",
       " 'poor',\n",
       " 'good',\n",
       " 'average']"
      ]
     },
     "execution_count": 5,
     "metadata": {},
     "output_type": "execute_result"
    }
   ],
   "source": [
    "from random import choice\n",
    "gene=[]\n",
    "for i in range(1,34):\n",
    "    gene.append(choice(['good','average','poor'])) \n",
    "gene"
   ]
  },
  {
   "cell_type": "code",
   "execution_count": 6,
   "id": "532b8d34",
   "metadata": {},
   "outputs": [
    {
     "data": {
      "text/plain": [
       "33"
      ]
     },
     "execution_count": 6,
     "metadata": {},
     "output_type": "execute_result"
    }
   ],
   "source": [
    "len(gene)"
   ]
  },
  {
   "cell_type": "code",
   "execution_count": 7,
   "id": "dab0c2f9",
   "metadata": {},
   "outputs": [
    {
     "data": {
      "text/plain": [
       "[(4.112805278974692, 138, 35.2496288386753, 'good'),\n",
       " (1.4777263390898572, 12, 23.136401736803222, 'good'),\n",
       " (1.5529648912613068, 63, 57.39372278524891, 'poor'),\n",
       " (1.5453188891861132, 115, 22.668527519077124, 'average'),\n",
       " (6.4011847088795815, 102, 10.372858263292258, 'average'),\n",
       " (3.52237290469555, 37, 31.856692495580507, 'poor'),\n",
       " (10.427478389742582, 9, 65.31137630921816, 'average'),\n",
       " (12.763933967531099, 85, 99.11438839376217, 'poor'),\n",
       " (1.587136460169798, 10, 60.49112834562378, 'good'),\n",
       " (1.7089370165855873, 96, 27.827101911473623, 'poor'),\n",
       " (5.740250868604778, 164, 24.77496628168158, 'good'),\n",
       " (9.160432382612658, 106, 54.721267043616855, 'good'),\n",
       " (9.333241025219333, 52, 94.61082097099587, 'good'),\n",
       " (2.3299845604480485, 44, 4.19614761127897, 'poor'),\n",
       " (6.500625880080586, 15, 82.08347633452684, 'good'),\n",
       " (9.914416844159849, 56, 67.8350946290851, 'average'),\n",
       " (10.31925628447977, 96, 44.43628421311329, 'good'),\n",
       " (11.82819346558039, 149, 4.826334421416561, 'average'),\n",
       " (9.963811121996462, 49, 31.987228628880505, 'average'),\n",
       " (3.0835079354706383, 109, 41.23419040121677, 'poor'),\n",
       " (11.536547449596384, 137, 28.87408957895325, 'poor'),\n",
       " (4.164847873166599, 78, 3.02765555352478, 'average'),\n",
       " (10.71463257965573, 109, 62.610578359488436, 'good'),\n",
       " (4.300627471532616, 166, 45.73815127469643, 'average'),\n",
       " (11.193224810745043, 16, 66.02487484847535, 'poor'),\n",
       " (1.2041113034219473, 11, 35.40748699239981, 'good'),\n",
       " (10.847163745986698, 9, 68.5719159188191, 'good'),\n",
       " (6.2794321618969455, 7, 47.21519186393613, 'poor'),\n",
       " (5.048975481563674, 131, 52.7611731767925, 'average'),\n",
       " (3.765388307457669, 79, 27.99591991092251, 'good'),\n",
       " (12.794033389056658, 153, 36.36050544071856, 'poor'),\n",
       " (5.031928100799144, 123, 75.895966562492, 'good'),\n",
       " (9.840902319164961, 98, 99.11534415934847, 'average')]"
      ]
     },
     "execution_count": 7,
     "metadata": {},
     "output_type": "execute_result"
    }
   ],
   "source": [
    "list1=[]\n",
    "for i in range(0,33):\n",
    "    list1.append((s[i],ex[i],d[i],gene[i]))\n",
    "list1"
   ]
  },
  {
   "cell_type": "code",
   "execution_count": 8,
   "id": "890c6709",
   "metadata": {},
   "outputs": [
    {
     "data": {
      "text/html": [
       "<div>\n",
       "<style scoped>\n",
       "    .dataframe tbody tr th:only-of-type {\n",
       "        vertical-align: middle;\n",
       "    }\n",
       "\n",
       "    .dataframe tbody tr th {\n",
       "        vertical-align: top;\n",
       "    }\n",
       "\n",
       "    .dataframe thead th {\n",
       "        text-align: right;\n",
       "    }\n",
       "</style>\n",
       "<table border=\"1\" class=\"dataframe\">\n",
       "  <thead>\n",
       "    <tr style=\"text-align: right;\">\n",
       "      <th></th>\n",
       "      <th>hours_slept</th>\n",
       "      <th>minutes_exercised</th>\n",
       "      <th>diet_rating</th>\n",
       "      <th>genetic_factors</th>\n",
       "    </tr>\n",
       "  </thead>\n",
       "  <tbody>\n",
       "    <tr>\n",
       "      <th>0</th>\n",
       "      <td>4.112805</td>\n",
       "      <td>138</td>\n",
       "      <td>35.249629</td>\n",
       "      <td>good</td>\n",
       "    </tr>\n",
       "    <tr>\n",
       "      <th>1</th>\n",
       "      <td>1.477726</td>\n",
       "      <td>12</td>\n",
       "      <td>23.136402</td>\n",
       "      <td>good</td>\n",
       "    </tr>\n",
       "    <tr>\n",
       "      <th>2</th>\n",
       "      <td>1.552965</td>\n",
       "      <td>63</td>\n",
       "      <td>57.393723</td>\n",
       "      <td>poor</td>\n",
       "    </tr>\n",
       "    <tr>\n",
       "      <th>3</th>\n",
       "      <td>1.545319</td>\n",
       "      <td>115</td>\n",
       "      <td>22.668528</td>\n",
       "      <td>average</td>\n",
       "    </tr>\n",
       "    <tr>\n",
       "      <th>4</th>\n",
       "      <td>6.401185</td>\n",
       "      <td>102</td>\n",
       "      <td>10.372858</td>\n",
       "      <td>average</td>\n",
       "    </tr>\n",
       "    <tr>\n",
       "      <th>5</th>\n",
       "      <td>3.522373</td>\n",
       "      <td>37</td>\n",
       "      <td>31.856692</td>\n",
       "      <td>poor</td>\n",
       "    </tr>\n",
       "    <tr>\n",
       "      <th>6</th>\n",
       "      <td>10.427478</td>\n",
       "      <td>9</td>\n",
       "      <td>65.311376</td>\n",
       "      <td>average</td>\n",
       "    </tr>\n",
       "    <tr>\n",
       "      <th>7</th>\n",
       "      <td>12.763934</td>\n",
       "      <td>85</td>\n",
       "      <td>99.114388</td>\n",
       "      <td>poor</td>\n",
       "    </tr>\n",
       "    <tr>\n",
       "      <th>8</th>\n",
       "      <td>1.587136</td>\n",
       "      <td>10</td>\n",
       "      <td>60.491128</td>\n",
       "      <td>good</td>\n",
       "    </tr>\n",
       "    <tr>\n",
       "      <th>9</th>\n",
       "      <td>1.708937</td>\n",
       "      <td>96</td>\n",
       "      <td>27.827102</td>\n",
       "      <td>poor</td>\n",
       "    </tr>\n",
       "    <tr>\n",
       "      <th>10</th>\n",
       "      <td>5.740251</td>\n",
       "      <td>164</td>\n",
       "      <td>24.774966</td>\n",
       "      <td>good</td>\n",
       "    </tr>\n",
       "    <tr>\n",
       "      <th>11</th>\n",
       "      <td>9.160432</td>\n",
       "      <td>106</td>\n",
       "      <td>54.721267</td>\n",
       "      <td>good</td>\n",
       "    </tr>\n",
       "    <tr>\n",
       "      <th>12</th>\n",
       "      <td>9.333241</td>\n",
       "      <td>52</td>\n",
       "      <td>94.610821</td>\n",
       "      <td>good</td>\n",
       "    </tr>\n",
       "    <tr>\n",
       "      <th>13</th>\n",
       "      <td>2.329985</td>\n",
       "      <td>44</td>\n",
       "      <td>4.196148</td>\n",
       "      <td>poor</td>\n",
       "    </tr>\n",
       "    <tr>\n",
       "      <th>14</th>\n",
       "      <td>6.500626</td>\n",
       "      <td>15</td>\n",
       "      <td>82.083476</td>\n",
       "      <td>good</td>\n",
       "    </tr>\n",
       "    <tr>\n",
       "      <th>15</th>\n",
       "      <td>9.914417</td>\n",
       "      <td>56</td>\n",
       "      <td>67.835095</td>\n",
       "      <td>average</td>\n",
       "    </tr>\n",
       "    <tr>\n",
       "      <th>16</th>\n",
       "      <td>10.319256</td>\n",
       "      <td>96</td>\n",
       "      <td>44.436284</td>\n",
       "      <td>good</td>\n",
       "    </tr>\n",
       "    <tr>\n",
       "      <th>17</th>\n",
       "      <td>11.828193</td>\n",
       "      <td>149</td>\n",
       "      <td>4.826334</td>\n",
       "      <td>average</td>\n",
       "    </tr>\n",
       "    <tr>\n",
       "      <th>18</th>\n",
       "      <td>9.963811</td>\n",
       "      <td>49</td>\n",
       "      <td>31.987229</td>\n",
       "      <td>average</td>\n",
       "    </tr>\n",
       "    <tr>\n",
       "      <th>19</th>\n",
       "      <td>3.083508</td>\n",
       "      <td>109</td>\n",
       "      <td>41.234190</td>\n",
       "      <td>poor</td>\n",
       "    </tr>\n",
       "    <tr>\n",
       "      <th>20</th>\n",
       "      <td>11.536547</td>\n",
       "      <td>137</td>\n",
       "      <td>28.874090</td>\n",
       "      <td>poor</td>\n",
       "    </tr>\n",
       "    <tr>\n",
       "      <th>21</th>\n",
       "      <td>4.164848</td>\n",
       "      <td>78</td>\n",
       "      <td>3.027656</td>\n",
       "      <td>average</td>\n",
       "    </tr>\n",
       "    <tr>\n",
       "      <th>22</th>\n",
       "      <td>10.714633</td>\n",
       "      <td>109</td>\n",
       "      <td>62.610578</td>\n",
       "      <td>good</td>\n",
       "    </tr>\n",
       "    <tr>\n",
       "      <th>23</th>\n",
       "      <td>4.300627</td>\n",
       "      <td>166</td>\n",
       "      <td>45.738151</td>\n",
       "      <td>average</td>\n",
       "    </tr>\n",
       "    <tr>\n",
       "      <th>24</th>\n",
       "      <td>11.193225</td>\n",
       "      <td>16</td>\n",
       "      <td>66.024875</td>\n",
       "      <td>poor</td>\n",
       "    </tr>\n",
       "    <tr>\n",
       "      <th>25</th>\n",
       "      <td>1.204111</td>\n",
       "      <td>11</td>\n",
       "      <td>35.407487</td>\n",
       "      <td>good</td>\n",
       "    </tr>\n",
       "    <tr>\n",
       "      <th>26</th>\n",
       "      <td>10.847164</td>\n",
       "      <td>9</td>\n",
       "      <td>68.571916</td>\n",
       "      <td>good</td>\n",
       "    </tr>\n",
       "    <tr>\n",
       "      <th>27</th>\n",
       "      <td>6.279432</td>\n",
       "      <td>7</td>\n",
       "      <td>47.215192</td>\n",
       "      <td>poor</td>\n",
       "    </tr>\n",
       "    <tr>\n",
       "      <th>28</th>\n",
       "      <td>5.048975</td>\n",
       "      <td>131</td>\n",
       "      <td>52.761173</td>\n",
       "      <td>average</td>\n",
       "    </tr>\n",
       "    <tr>\n",
       "      <th>29</th>\n",
       "      <td>3.765388</td>\n",
       "      <td>79</td>\n",
       "      <td>27.995920</td>\n",
       "      <td>good</td>\n",
       "    </tr>\n",
       "    <tr>\n",
       "      <th>30</th>\n",
       "      <td>12.794033</td>\n",
       "      <td>153</td>\n",
       "      <td>36.360505</td>\n",
       "      <td>poor</td>\n",
       "    </tr>\n",
       "    <tr>\n",
       "      <th>31</th>\n",
       "      <td>5.031928</td>\n",
       "      <td>123</td>\n",
       "      <td>75.895967</td>\n",
       "      <td>good</td>\n",
       "    </tr>\n",
       "    <tr>\n",
       "      <th>32</th>\n",
       "      <td>9.840902</td>\n",
       "      <td>98</td>\n",
       "      <td>99.115344</td>\n",
       "      <td>average</td>\n",
       "    </tr>\n",
       "  </tbody>\n",
       "</table>\n",
       "</div>"
      ],
      "text/plain": [
       "    hours_slept  minutes_exercised  diet_rating genetic_factors\n",
       "0      4.112805                138    35.249629            good\n",
       "1      1.477726                 12    23.136402            good\n",
       "2      1.552965                 63    57.393723            poor\n",
       "3      1.545319                115    22.668528         average\n",
       "4      6.401185                102    10.372858         average\n",
       "5      3.522373                 37    31.856692            poor\n",
       "6     10.427478                  9    65.311376         average\n",
       "7     12.763934                 85    99.114388            poor\n",
       "8      1.587136                 10    60.491128            good\n",
       "9      1.708937                 96    27.827102            poor\n",
       "10     5.740251                164    24.774966            good\n",
       "11     9.160432                106    54.721267            good\n",
       "12     9.333241                 52    94.610821            good\n",
       "13     2.329985                 44     4.196148            poor\n",
       "14     6.500626                 15    82.083476            good\n",
       "15     9.914417                 56    67.835095         average\n",
       "16    10.319256                 96    44.436284            good\n",
       "17    11.828193                149     4.826334         average\n",
       "18     9.963811                 49    31.987229         average\n",
       "19     3.083508                109    41.234190            poor\n",
       "20    11.536547                137    28.874090            poor\n",
       "21     4.164848                 78     3.027656         average\n",
       "22    10.714633                109    62.610578            good\n",
       "23     4.300627                166    45.738151         average\n",
       "24    11.193225                 16    66.024875            poor\n",
       "25     1.204111                 11    35.407487            good\n",
       "26    10.847164                  9    68.571916            good\n",
       "27     6.279432                  7    47.215192            poor\n",
       "28     5.048975                131    52.761173         average\n",
       "29     3.765388                 79    27.995920            good\n",
       "30    12.794033                153    36.360505            poor\n",
       "31     5.031928                123    75.895967            good\n",
       "32     9.840902                 98    99.115344         average"
      ]
     },
     "execution_count": 8,
     "metadata": {},
     "output_type": "execute_result"
    }
   ],
   "source": [
    "df1= pd.DataFrame(list1, columns=['hours_slept','minutes_exercised','diet_rating','genetic_factors'])\n",
    "df1"
   ]
  },
  {
   "cell_type": "code",
   "execution_count": 9,
   "id": "06e2cb9c",
   "metadata": {},
   "outputs": [],
   "source": [
    "df1.to_csv('health data.csv')"
   ]
  },
  {
   "cell_type": "code",
   "execution_count": 10,
   "id": "2efc7248",
   "metadata": {},
   "outputs": [
    {
     "data": {
      "text/plain": [
       "array([0.28568923, 0.12243028, 0.32026351, 0.33114126, 0.51594782,\n",
       "       0.13965648, 0.58079625, 0.71940836, 0.32026127, 0.68581885,\n",
       "       0.74854082, 0.02950338, 0.18215239, 0.23261093, 0.22501603,\n",
       "       0.6408682 , 0.29573307, 0.83836044, 0.6894439 , 1.00337896,\n",
       "       0.1253066 , 0.29299804, 0.42390352, 0.96905265, 0.78296163,\n",
       "       0.93431697, 0.69963592, 0.91340243, 0.82961064, 0.36867305,\n",
       "       0.09696567, 0.24990484, 0.44966545])"
      ]
     },
     "execution_count": 10,
     "metadata": {},
     "output_type": "execute_result"
    }
   ],
   "source": [
    "y= np.random.uniform(low=0,high=1.01,size=33).astype(float)\n",
    "y  #health rating"
   ]
  },
  {
   "cell_type": "code",
   "execution_count": 11,
   "id": "4cc151a9",
   "metadata": {},
   "outputs": [
    {
     "data": {
      "text/plain": [
       "(33,)"
      ]
     },
     "execution_count": 11,
     "metadata": {},
     "output_type": "execute_result"
    }
   ],
   "source": [
    "y.shape"
   ]
  },
  {
   "cell_type": "code",
   "execution_count": 12,
   "id": "6ce629af",
   "metadata": {},
   "outputs": [],
   "source": [
    "from sklearn.compose import ColumnTransformer\n",
    "from sklearn.preprocessing import OneHotEncoder\n",
    "ct = ColumnTransformer(transformers=[('encoder', OneHotEncoder(), [3])],  remainder='passthrough')\n",
    "\n",
    "X = np.array(ct.fit_transform(list1))"
   ]
  },
  {
   "cell_type": "code",
   "execution_count": 13,
   "id": "9c26f568",
   "metadata": {},
   "outputs": [
    {
     "data": {
      "text/plain": [
       "array([[0.0, 1.0, 0.0, 4.112805278974692, 138, 35.2496288386753],\n",
       "       [0.0, 1.0, 0.0, 1.4777263390898572, 12, 23.136401736803222],\n",
       "       [0.0, 0.0, 1.0, 1.5529648912613068, 63, 57.39372278524891],\n",
       "       [1.0, 0.0, 0.0, 1.5453188891861132, 115, 22.668527519077124],\n",
       "       [1.0, 0.0, 0.0, 6.4011847088795815, 102, 10.372858263292258],\n",
       "       [0.0, 0.0, 1.0, 3.52237290469555, 37, 31.856692495580507],\n",
       "       [1.0, 0.0, 0.0, 10.427478389742582, 9, 65.31137630921816],\n",
       "       [0.0, 0.0, 1.0, 12.763933967531099, 85, 99.11438839376217],\n",
       "       [0.0, 1.0, 0.0, 1.587136460169798, 10, 60.49112834562378],\n",
       "       [0.0, 0.0, 1.0, 1.7089370165855873, 96, 27.827101911473623],\n",
       "       [0.0, 1.0, 0.0, 5.740250868604778, 164, 24.77496628168158],\n",
       "       [0.0, 1.0, 0.0, 9.160432382612658, 106, 54.721267043616855],\n",
       "       [0.0, 1.0, 0.0, 9.333241025219333, 52, 94.61082097099587],\n",
       "       [0.0, 0.0, 1.0, 2.3299845604480485, 44, 4.19614761127897],\n",
       "       [0.0, 1.0, 0.0, 6.500625880080586, 15, 82.08347633452684],\n",
       "       [1.0, 0.0, 0.0, 9.914416844159849, 56, 67.8350946290851],\n",
       "       [0.0, 1.0, 0.0, 10.31925628447977, 96, 44.43628421311329],\n",
       "       [1.0, 0.0, 0.0, 11.82819346558039, 149, 4.826334421416561],\n",
       "       [1.0, 0.0, 0.0, 9.963811121996462, 49, 31.987228628880505],\n",
       "       [0.0, 0.0, 1.0, 3.0835079354706383, 109, 41.23419040121677],\n",
       "       [0.0, 0.0, 1.0, 11.536547449596384, 137, 28.87408957895325],\n",
       "       [1.0, 0.0, 0.0, 4.164847873166599, 78, 3.02765555352478],\n",
       "       [0.0, 1.0, 0.0, 10.71463257965573, 109, 62.610578359488436],\n",
       "       [1.0, 0.0, 0.0, 4.300627471532616, 166, 45.73815127469643],\n",
       "       [0.0, 0.0, 1.0, 11.193224810745043, 16, 66.02487484847535],\n",
       "       [0.0, 1.0, 0.0, 1.2041113034219473, 11, 35.40748699239981],\n",
       "       [0.0, 1.0, 0.0, 10.847163745986698, 9, 68.5719159188191],\n",
       "       [0.0, 0.0, 1.0, 6.2794321618969455, 7, 47.21519186393613],\n",
       "       [1.0, 0.0, 0.0, 5.048975481563674, 131, 52.7611731767925],\n",
       "       [0.0, 1.0, 0.0, 3.765388307457669, 79, 27.99591991092251],\n",
       "       [0.0, 0.0, 1.0, 12.794033389056658, 153, 36.36050544071856],\n",
       "       [0.0, 1.0, 0.0, 5.031928100799144, 123, 75.895966562492],\n",
       "       [1.0, 0.0, 0.0, 9.840902319164961, 98, 99.11534415934847]],\n",
       "      dtype=object)"
      ]
     },
     "execution_count": 13,
     "metadata": {},
     "output_type": "execute_result"
    }
   ],
   "source": [
    "X"
   ]
  },
  {
   "cell_type": "code",
   "execution_count": 14,
   "id": "e56d4a45",
   "metadata": {},
   "outputs": [],
   "source": [
    "from sklearn.model_selection import train_test_split\n",
    "X_train, X_test, y_train , y_test = train_test_split(X, y, test_size = 0.33, random_state = 42)"
   ]
  },
  {
   "cell_type": "markdown",
   "id": "fb4ec961",
   "metadata": {},
   "source": [
    "We have now split the dataset."
   ]
  },
  {
   "cell_type": "code",
   "execution_count": 15,
   "id": "bb2993fb",
   "metadata": {},
   "outputs": [
    {
     "data": {
      "text/plain": [
       "(22, 6)"
      ]
     },
     "execution_count": 15,
     "metadata": {},
     "output_type": "execute_result"
    }
   ],
   "source": [
    "X_train.shape"
   ]
  },
  {
   "cell_type": "code",
   "execution_count": 16,
   "id": "7cb087a7",
   "metadata": {},
   "outputs": [
    {
     "data": {
      "text/plain": [
       "(11,)"
      ]
     },
     "execution_count": 16,
     "metadata": {},
     "output_type": "execute_result"
    }
   ],
   "source": [
    "y_test.shape"
   ]
  },
  {
   "cell_type": "markdown",
   "id": "18845b94",
   "metadata": {},
   "source": [
    "# FEATURE SCALING"
   ]
  },
  {
   "cell_type": "code",
   "execution_count": 17,
   "id": "63ffb34d",
   "metadata": {},
   "outputs": [
    {
     "data": {
      "text/plain": [
       "array([[0.        , 1.        , 0.        , 0.78647164, 0.55974843,\n",
       "        0.42394097],\n",
       "       [0.        , 0.        , 1.        , 0.20002392, 0.18867925,\n",
       "        0.29141149],\n",
       "       [0.        , 0.        , 1.        , 0.09714244, 0.2327044 ,\n",
       "        0.        ],\n",
       "       [0.        , 1.        , 0.        , 0.68648616, 0.62264151,\n",
       "        0.53229611],\n",
       "       [0.        , 0.        , 1.        , 0.86187926, 0.05660377,\n",
       "        0.65138275],\n",
       "       [0.        , 1.        , 0.        , 0.02360801, 0.03144654,\n",
       "        0.19954082],\n",
       "       [0.        , 0.        , 1.        , 0.03009974, 0.35220126,\n",
       "        0.56045117],\n",
       "       [0.        , 1.        , 0.        , 0.22099174, 0.45283019,\n",
       "        0.25073719],\n",
       "       [1.        , 0.        , 0.        , 0.02944002, 0.67924528,\n",
       "        0.19461163],\n",
       "       [0.        , 0.        , 1.        , 0.43790811, 0.        ,\n",
       "        0.45321753],\n",
       "       [1.        , 0.        , 0.        , 0.26717317, 1.        ,\n",
       "        0.4376565 ],\n",
       "       [0.        , 0.        , 1.        , 1.        , 0.91823899,\n",
       "        0.33886041],\n",
       "       [0.        , 1.        , 0.        , 0.82058544, 0.64150943,\n",
       "        0.61541219],\n",
       "       [1.        , 0.        , 0.        , 0.75580317, 0.26415094,\n",
       "        0.29278673],\n",
       "       [0.        , 1.        , 0.        , 0.        , 0.02515723,\n",
       "        0.3288201 ],\n",
       "       [1.        , 0.        , 0.        , 0.79580924, 0.01257862,\n",
       "        0.64386585],\n",
       "       [0.        , 0.        , 1.        , 0.89150178, 0.81761006,\n",
       "        0.25998895],\n",
       "       [1.        , 0.        , 0.        , 0.74519837, 0.57232704,\n",
       "        1.        ],\n",
       "       [0.        , 0.        , 1.        , 0.99740297, 0.49056604,\n",
       "        0.99998993],\n",
       "       [0.        , 1.        , 0.        , 0.39138655, 0.98742138,\n",
       "        0.21680355],\n",
       "       [0.        , 1.        , 0.        , 0.45699311, 0.05031447,\n",
       "        0.82056456],\n",
       "       [1.        , 0.        , 0.        , 0.33174202, 0.77987421,\n",
       "        0.51164598]])"
      ]
     },
     "execution_count": 17,
     "metadata": {},
     "output_type": "execute_result"
    }
   ],
   "source": [
    "from sklearn import preprocessing\n",
    "a = preprocessing.MinMaxScaler(feature_range =(0, 1))\n",
    "  \n",
    "# Scaled feature\n",
    "b = a.fit_transform(X_train)\n",
    "b"
   ]
  },
  {
   "cell_type": "code",
   "execution_count": 18,
   "id": "b246fcfa",
   "metadata": {},
   "outputs": [
    {
     "data": {
      "text/plain": [
       "LinearRegression()"
      ]
     },
     "execution_count": 18,
     "metadata": {},
     "output_type": "execute_result"
    }
   ],
   "source": [
    "from sklearn.linear_model import LinearRegression\n",
    "obj1= LinearRegression()\n",
    "obj1.fit(b,y_train)"
   ]
  },
  {
   "cell_type": "markdown",
   "id": "e229402f",
   "metadata": {},
   "source": [
    "Now the model has been trained."
   ]
  },
  {
   "cell_type": "code",
   "execution_count": 19,
   "id": "330fd564",
   "metadata": {},
   "outputs": [
    {
     "data": {
      "text/plain": [
       "array([[0.        , 1.        , 0.        , 0.33637071, 0.81428571,\n",
       "        0.79565181],\n",
       "       [1.        , 0.        , 0.        , 0.81312704, 0.33571429,\n",
       "        0.70763485],\n",
       "       [0.        , 1.        , 0.        , 0.9042062 , 0.        ,\n",
       "        0.71568022],\n",
       "       [1.        , 0.        , 0.        , 1.        , 1.        ,\n",
       "        0.01963984],\n",
       "       [0.        , 1.        , 0.        , 0.        , 0.00714286,\n",
       "        0.6274458 ],\n",
       "       [0.        , 0.        , 1.        , 0.01189336, 0.62142857,\n",
       "        0.27078608],\n",
       "       [0.        , 0.        , 1.        , 0.14611494, 0.71428571,\n",
       "        0.41717858],\n",
       "       [1.        , 0.        , 0.        , 0.25170365, 0.49285714,\n",
       "        0.        ],\n",
       "       [0.        , 1.        , 0.        , 0.75637745, 0.30714286,\n",
       "        1.        ],\n",
       "       [0.        , 1.        , 0.        , 0.24662189, 0.92142857,\n",
       "        0.35183293],\n",
       "       [1.        , 0.        , 0.        , 0.47007338, 0.66428571,\n",
       "        0.08020254]])"
      ]
     },
     "execution_count": 19,
     "metadata": {},
     "output_type": "execute_result"
    }
   ],
   "source": [
    "a1 = preprocessing.MinMaxScaler(feature_range =(0, 1))\n",
    "  \n",
    "# Scaled feature\n",
    "b1 = a1.fit_transform(X_test)\n",
    "b1"
   ]
  },
  {
   "cell_type": "code",
   "execution_count": 20,
   "id": "a5a939b3",
   "metadata": {},
   "outputs": [
    {
     "data": {
      "text/plain": [
       "array([0.47763264, 0.66428059, 0.43406156, 0.42847318, 0.51967834,\n",
       "       0.42490074, 0.44117685, 0.54148527, 0.50772435, 0.36861482,\n",
       "       0.5263107 ])"
      ]
     },
     "execution_count": 20,
     "metadata": {},
     "output_type": "execute_result"
    }
   ],
   "source": [
    "y_pred= obj1.predict(b1)\n",
    "y_pred  #predicted rating of health."
   ]
  },
  {
   "cell_type": "code",
   "execution_count": 21,
   "id": "ce145347",
   "metadata": {},
   "outputs": [
    {
     "data": {
      "text/plain": [
       "array([0.24990484, 0.6408682 , 0.69963592, 0.83836044, 0.32026127,\n",
       "       0.68581885, 1.00337896, 0.29299804, 0.18215239, 0.28568923,\n",
       "       0.51594782])"
      ]
     },
     "execution_count": 21,
     "metadata": {},
     "output_type": "execute_result"
    }
   ],
   "source": [
    "y_test #actual rating of health."
   ]
  },
  {
   "cell_type": "code",
   "execution_count": 22,
   "id": "31603430",
   "metadata": {},
   "outputs": [
    {
     "data": {
      "text/plain": [
       "array([0.29573307, 0.13965648, 0.23261093, 0.02950338, 0.78296163,\n",
       "       0.12243028, 0.32026351, 0.36867305, 0.33114126, 0.91340243,\n",
       "       0.96905265, 0.09696567, 0.42390352, 0.6894439 , 0.93431697,\n",
       "       0.58079625, 0.1253066 , 0.44966545, 0.71940836, 0.74854082,\n",
       "       0.22501603, 0.82961064])"
      ]
     },
     "execution_count": 22,
     "metadata": {},
     "output_type": "execute_result"
    }
   ],
   "source": [
    "y_train  #actual rating of health"
   ]
  },
  {
   "cell_type": "code",
   "execution_count": 23,
   "id": "40ca1041",
   "metadata": {},
   "outputs": [
    {
     "data": {
      "text/plain": [
       "array([0.34231112, 0.43159481, 0.36675546, 0.37863363, 0.45174155,\n",
       "       0.40571803, 0.51196052, 0.37175661, 0.60777761, 0.45498842,\n",
       "       0.62376766, 0.30716765, 0.38279627, 0.56871322, 0.44206913,\n",
       "       0.66792932, 0.30555373, 0.73431955, 0.50081347, 0.31291819,\n",
       "       0.51191415, 0.64720279])"
      ]
     },
     "execution_count": 23,
     "metadata": {},
     "output_type": "execute_result"
    }
   ],
   "source": [
    "obj1.predict(b)  #prediction of health rating from training data."
   ]
  },
  {
   "cell_type": "code",
   "execution_count": 36,
   "id": "39da2871",
   "metadata": {},
   "outputs": [
    {
     "data": {
      "text/plain": [
       "[0, 1, 2, 3, 4, 5, 6, 7, 8, 9, 10, 11, 12, 13, 14, 15, 16, 17, 18, 19, 20, 21]"
      ]
     },
     "execution_count": 36,
     "metadata": {},
     "output_type": "execute_result"
    }
   ],
   "source": [
    "v=[]\n",
    "for i in range(0,22):\n",
    "    v.append(i)\n",
    "v"
   ]
  },
  {
   "cell_type": "code",
   "execution_count": 37,
   "id": "b115bd39",
   "metadata": {},
   "outputs": [
    {
     "data": {
      "text/plain": [
       "<matplotlib.legend.Legend at 0x1e12ff26d90>"
      ]
     },
     "execution_count": 37,
     "metadata": {},
     "output_type": "execute_result"
    },
    {
     "data": {
      "image/png": "[encoded data removed]",
      "text/plain": [
       "<Figure size 432x288 with 1 Axes>"
      ]
     },
     "metadata": {
      "needs_background": "light"
     },
     "output_type": "display_data"
    }
   ],
   "source": [
    "#visualizing the training output\n",
    "import matplotlib.pyplot as plt\n",
    "plt.scatter(v,obj1.predict(b),c='red')  #predicted data\n",
    "plt.plot(v,obj1.predict(b),c='red',label='predicted data')\n",
    "plt.scatter(v,y_train,c='blue')   #actual data\n",
    "plt.plot(v,y_train,c='blue',label='actual data')\n",
    "plt.xlabel('person id')\n",
    "plt.ylabel('health rating')\n",
    "plt.title('Training Output for 22 people')\n",
    "plt.legend()"
   ]
  },
  {
   "cell_type": "code",
   "execution_count": 33,
   "id": "938d4ee6",
   "metadata": {},
   "outputs": [
    {
     "data": {
      "text/plain": [
       "[0, 1, 2, 3, 4, 5, 6, 7, 8, 9, 10]"
      ]
     },
     "execution_count": 33,
     "metadata": {},
     "output_type": "execute_result"
    }
   ],
   "source": [
    "u=[]\n",
    "for i in range(0,11):\n",
    "    u.append(i)\n",
    "u"
   ]
  },
  {
   "cell_type": "code",
   "execution_count": 38,
   "id": "2fe6679b",
   "metadata": {},
   "outputs": [
    {
     "data": {
      "text/plain": [
       "<matplotlib.legend.Legend at 0x1e12fe972e0>"
      ]
     },
     "execution_count": 38,
     "metadata": {},
     "output_type": "execute_result"
    },
    {
     "data": {
      "image/png": "[encoded data removed]",
      "text/plain": [
       "<Figure size 432x288 with 1 Axes>"
      ]
     },
     "metadata": {
      "needs_background": "light"
     },
     "output_type": "display_data"
    }
   ],
   "source": [
    "#visualizing the test output\n",
    "\n",
    "plt.scatter(u,obj1.predict(b1),c='red')  #predicted data\n",
    "plt.plot(u,obj1.predict(b1),c='red',label='predicted data')\n",
    "plt.scatter(u,y_test,c='blue')   #actual data\n",
    "plt.plot(u,y_test,c='blue',label='actual data')\n",
    "plt.xlabel('person id')\n",
    "plt.ylabel('health rating')\n",
    "plt.title('Test Output for 11 people')\n",
    "plt.legend()"
   ]
  },
  {
   "cell_type": "code",
   "execution_count": null,
   "id": "cc63f9fd",
   "metadata": {},
   "outputs": [],
   "source": []
  }
 ],
 "metadata": {
  "kernelspec": {
   "display_name": "Python 3 (ipykernel)",
   "language": "python",
   "name": "python3"
  },
  "language_info": {
   "codemirror_mode": {
    "name": "ipython",
    "version": 3
   },
   "file_extension": ".py",
   "mimetype": "text/x-python",
   "name": "python",
   "nbconvert_exporter": "python",
   "pygments_lexer": "ipython3",
   "version": "3.9.7"
  }
 },
 "nbformat": 4,
 "nbformat_minor": 5
}
